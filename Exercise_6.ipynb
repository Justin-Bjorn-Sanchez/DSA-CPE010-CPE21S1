{
  "nbformat": 4,
  "nbformat_minor": 0,
  "metadata": {
    "colab": {
      "provenance": [],
      "authorship_tag": "ABX9TyP5dESD8vaTrziwYVScK9x3",
      "include_colab_link": true
    },
    "kernelspec": {
      "name": "python3",
      "display_name": "Python 3"
    },
    "language_info": {
      "name": "python"
    }
  },
  "cells": [
    {
      "cell_type": "markdown",
      "metadata": {
        "id": "view-in-github",
        "colab_type": "text"
      },
      "source": [
        "<a href=\"https://colab.research.google.com/github/Justin-Bjorn-Sanchez/DSA-CPE010-CPE21S1/blob/main/Exercise_6.ipynb\" target=\"_parent\"><img src=\"https://colab.research.google.com/assets/colab-badge.svg\" alt=\"Open In Colab\"/></a>"
      ]
    },
    {
      "cell_type": "markdown",
      "source": [
        "**QUEUE**"
      ],
      "metadata": {
        "id": "MR4hE5JzTrMG"
      }
    },
    {
      "cell_type": "code",
      "execution_count": null,
      "metadata": {
        "id": "wFXoUCpJTcHa"
      },
      "outputs": [],
      "source": [
        "#include <iostream>\n",
        "#include <queue>\n",
        "using namespace std;\n",
        "\n",
        "void display(queue<string>pl);\n",
        "int main()\n",
        "{\n",
        "  queue<string> pl;\n",
        "  pl.push(\" C++\");\n",
        "  pl.push(\" Java\");\n",
        "  pl.push(\" Python\");\n",
        "  cout <<\"Initial queue: \";\n",
        "  display(pl);\n",
        "  cout << endl;\n",
        "\n",
        "  pl.pop();\n",
        "  pl.pop();\n",
        "\n",
        "  cout <<\"Final queue:\";\n",
        "  display(pl);\n",
        "  return 0;\n",
        "}\n",
        "\n",
        "void display(queue<string>pl)\n",
        "{\n",
        "  while(!pl.empty()){\n",
        "    cout<<pl.front();\n",
        "  pl.pop();\n",
        "  }\n",
        "}"
      ]
    },
    {
      "cell_type": "markdown",
      "source": [
        "**STACK**"
      ],
      "metadata": {
        "id": "a5GU6CBGTuxO"
      }
    },
    {
      "cell_type": "code",
      "source": [
        "#include <iostream>\n",
        "#include <stack>\n",
        "using namespace std;\n",
        "\n",
        "void display(stack<string>pl);\n",
        "int main()\n",
        "{\n",
        "  stack<string> pl;\n",
        "  pl.push(\"C++\");\n",
        "  pl.push(\"Java\");\n",
        "  pl.push(\"Python\");\n",
        "  cout <<\"Initial stack: \";display(pl);\n",
        "  cout << endl;// Add a newline for better formatting\n",
        "\n",
        "  pl.pop();\n",
        "  pl.pop();\n",
        "  cout <<\"Final Stack: \";display(pl);\n",
        "  return 0;\n",
        "}\n",
        "\n",
        "void display(stack<string>pl)\n",
        "{\n",
        "  while(!pl.empty()){\n",
        "    cout<<pl.top();\n",
        "    pl.pop();\n",
        "  }\n",
        "}"
      ],
      "metadata": {
        "id": "4iRAf1D3T-sm"
      },
      "execution_count": null,
      "outputs": []
    }
  ]
}