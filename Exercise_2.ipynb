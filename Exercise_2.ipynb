{
  "nbformat": 4,
  "nbformat_minor": 0,
  "metadata": {
    "colab": {
      "provenance": [],
      "authorship_tag": "ABX9TyPNk72K2fQt4OI9ToFy3n5y",
      "include_colab_link": true
    },
    "kernelspec": {
      "name": "python3",
      "display_name": "Python 3"
    },
    "language_info": {
      "name": "python"
    }
  },
  "cells": [
    {
      "cell_type": "markdown",
      "metadata": {
        "id": "view-in-github",
        "colab_type": "text"
      },
      "source": [
        "<a href=\"https://colab.research.google.com/github/Justin-Bjorn-Sanchez/DSA-CPE010-CPE21S1/blob/main/Exercise_2.ipynb\" target=\"_parent\"><img src=\"https://colab.research.google.com/assets/colab-badge.svg\" alt=\"Open In Colab\"/></a>"
      ]
    },
    {
      "cell_type": "code",
      "source": [
        "class Shapes:\n",
        "  def area(self):\n",
        "    raise NotImplementedError(\"Subclasses must implement area()\")\n",
        "\n",
        "class Rectangle(Shapes):\n",
        "  def __init__(self, width, length):\n",
        "    self.width = width\n",
        "    self.length = length\n",
        "\n",
        "  def area(self):\n",
        "    return self.width * self.length\n",
        "\n",
        "class Triangle(Shapes):\n",
        "  def __init__(self, base, height):\n",
        "    self.base = base\n",
        "    self.height = height\n",
        "\n",
        "  def area(self):\n",
        "    return 0.5 * self.base * self.height\n",
        "\n",
        "class Square(Shapes):\n",
        "  def __init__(self, side):\n",
        "    self.side = side\n",
        "\n",
        "  def area(self):\n",
        "    return self.side * self.side\n",
        "\n",
        "\n",
        "width = float(input(\"Enter width of rectangle: \"))\n",
        "length = float(input(\"Enter length of rectangle: \"))\n",
        "rectangle = Rectangle(width, length)\n",
        "print(\"Area of rectangle is:\", rectangle.area())\n",
        "\n",
        "\n",
        "base = float(input(\"Enter the base of the Triangle: \"))\n",
        "height = float(input(\"Enter the height of the Triangle: \"))\n",
        "triangle = Triangle(base, height)\n",
        "print(\"Area of triangle is:\", triangle.area())\n",
        "\n",
        "\n",
        "side = float(input(\"Enter the side of the Square: \"))\n",
        "square = Square(side)\n",
        "print(\"Area of square is:\", square.area())"
      ],
      "metadata": {
        "colab": {
          "base_uri": "https://localhost:8080/"
        },
        "id": "a61GGANpQDm1",
        "outputId": "db1e964c-7003-4d2e-efb3-fa350a3bfc27"
      },
      "execution_count": 9,
      "outputs": [
        {
          "output_type": "stream",
          "name": "stdout",
          "text": [
            "Enter width of rectangle: 5\n",
            "Enter length of rectangle: 5\n",
            "Area of rectangle is: 25.0\n",
            "Enter the base of the Triangle: 5\n",
            "Enter the height of the Triangle: 5\n",
            "Area of triangle is: 12.5\n",
            "Enter the side of the Square: 5\n",
            "Area of square is: 25.0\n"
          ]
        }
      ]
    }
  ]
}