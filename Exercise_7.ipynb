{
  "nbformat": 4,
  "nbformat_minor": 0,
  "metadata": {
    "colab": {
      "provenance": [],
      "authorship_tag": "ABX9TyP2zMWOMChPkEHCQHjcdkNQ",
      "include_colab_link": true
    },
    "kernelspec": {
      "name": "python3",
      "display_name": "Python 3"
    },
    "language_info": {
      "name": "python"
    }
  },
  "cells": [
    {
      "cell_type": "markdown",
      "metadata": {
        "id": "view-in-github",
        "colab_type": "text"
      },
      "source": [
        "<a href=\"https://colab.research.google.com/github/Justin-Bjorn-Sanchez/DSA-CPE010-CPE21S1/blob/main/Exercise_7.ipynb\" target=\"_parent\"><img src=\"https://colab.research.google.com/assets/colab-badge.svg\" alt=\"Open In Colab\"/></a>"
      ]
    },
    {
      "cell_type": "markdown",
      "source": [
        "**1**"
      ],
      "metadata": {
        "id": "YKWC5b8Tswza"
      }
    },
    {
      "cell_type": "code",
      "execution_count": null,
      "metadata": {
        "id": "NlG_OtHmsZZT"
      },
      "outputs": [],
      "source": [
        "#include <iostream>\n",
        "using namespade std;\n",
        "int linearSearch(int arr[], int size, int target){\n",
        "    for(int i = 0; i < size; i++){\n",
        "        if(arr[i] == target){\n",
        "            return i;\n",
        "        }\n",
        "    }\n",
        "    return -1;\n",
        "}\n",
        "\n",
        "int main(){\n",
        "    int arr[] = {5,3,8,4,2};\n",
        "    int size = sizeoff(arr) / sizeof(arr[0]);\n",
        "    int target;\n",
        "}\n",
        "\n",
        "cout << \"Enter a number to search:\";\n",
        "cin >> target;\n",
        "\n",
        "   int result = linearSearch(arr, size, target);\n",
        "\n",
        "if (result != -1)\n",
        " {\n",
        "     cout << \"Element found at index\" << result << endl;\n",
        " }\n",
        " else\n",
        " {\n",
        "     cout << \"Element not found\" << endl;\n",
        " }\n",
        " return 0;\n",
        ""
      ]
    },
    {
      "cell_type": "markdown",
      "source": [
        "**2**"
      ],
      "metadata": {
        "id": "LZo5xasgtqsg"
      }
    },
    {
      "cell_type": "code",
      "source": [
        "#include <iostream>\n",
        "using namespace std;\n",
        "\n",
        "int binarySearch(int arr[], int size, int target){\n",
        "    int left = 0;\n",
        "    int right = size - 1;\n",
        "\n",
        "    while(left <= right){\n",
        "        int mid = left + (right - left) / 2;\n",
        "    }\n",
        "        if(arr[mid] == target){\n",
        "            return mid;\n",
        "        }\n",
        "        if(arr[mid] < target){\n",
        "            left = mid +;\n",
        "        }\n",
        "    return -1;\n",
        "\n",
        "int main(){\n",
        "    int arr[] = {2,3,4,5,8};\n",
        "    int size = sizeoff(arr) / sizeof(arr[0]);\n",
        "    int target;\n",
        "}\n",
        "    cout << \"Enter a number to search:\";\n",
        "    cin >> target;\n",
        "\n",
        "    int result = binarySearch(arr, size, target);\n",
        "\n",
        "    if (result != -1)\n",
        "    {\n",
        "        cout << \"Element found at index\" << result << endl;\n",
        "    }\n",
        "    else\n",
        "    {\n",
        "        cout << \"Element not found\" << endl;\n",
        "    }\n",
        "\n",
        "    return 0;"
      ],
      "metadata": {
        "id": "Xy_08Cg_trzf"
      },
      "execution_count": null,
      "outputs": []
    }
  ]
}