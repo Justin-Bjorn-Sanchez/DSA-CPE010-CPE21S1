{
  "nbformat": 4,
  "nbformat_minor": 0,
  "metadata": {
    "colab": {
      "provenance": [],
      "authorship_tag": "ABX9TyOJ8jWhpWFOdRcgnc8vwxos",
      "include_colab_link": true
    },
    "kernelspec": {
      "name": "python3",
      "display_name": "Python 3"
    },
    "language_info": {
      "name": "python"
    }
  },
  "cells": [
    {
      "cell_type": "markdown",
      "metadata": {
        "id": "view-in-github",
        "colab_type": "text"
      },
      "source": [
        "<a href=\"https://colab.research.google.com/github/Justin-Bjorn-Sanchez/DSA-CPE010-CPE21S1/blob/main/Exercise_3.ipynb\" target=\"_parent\"><img src=\"https://colab.research.google.com/assets/colab-badge.svg\" alt=\"Open In Colab\"/></a>"
      ]
    },
    {
      "cell_type": "markdown",
      "source": [
        "**Reverse-Array, add adjective array***"
      ],
      "metadata": {
        "id": "xdTHTd7jc-yp"
      }
    },
    {
      "cell_type": "code",
      "execution_count": 2,
      "metadata": {
        "colab": {
          "base_uri": "https://localhost:8080/"
        },
        "id": "KbSldMiPaxcT",
        "outputId": "6ce1f6f4-b8ed-4723-84f0-fd5a22444bf4"
      },
      "outputs": [
        {
          "output_type": "stream",
          "name": "stdout",
          "text": [
            "fish Gorgeous\n",
            "fish Cute\n",
            "fish Stinky\n",
            "dog Gorgeous\n",
            "dog Cute\n",
            "dog Stinky\n",
            "cat Gorgeous\n",
            "cat Cute\n",
            "cat Stinky\n"
          ]
        }
      ],
      "source": [
        "animal=['cat','dog','fish']\n",
        "adjectives=['Gorgeous','Cute','Stinky']\n",
        "\n",
        "animal.reverse()\n",
        "\n",
        "for animal in animal:\n",
        "  for adjective in adjectives:\n",
        "    print(animal,adjective)"
      ]
    }
  ]
}