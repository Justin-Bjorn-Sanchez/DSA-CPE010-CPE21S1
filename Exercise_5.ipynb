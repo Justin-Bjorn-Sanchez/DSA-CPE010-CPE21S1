{
  "nbformat": 4,
  "nbformat_minor": 0,
  "metadata": {
    "colab": {
      "provenance": [],
      "authorship_tag": "ABX9TyML+zjKz4RTYa61bZBLlAsx",
      "include_colab_link": true
    },
    "kernelspec": {
      "name": "python3",
      "display_name": "Python 3"
    },
    "language_info": {
      "name": "python"
    }
  },
  "cells": [
    {
      "cell_type": "markdown",
      "metadata": {
        "id": "view-in-github",
        "colab_type": "text"
      },
      "source": [
        "<a href=\"https://colab.research.google.com/github/Justin-Bjorn-Sanchez/DSA-CPE010-CPE21S1/blob/main/Exercise_5.ipynb\" target=\"_parent\"><img src=\"https://colab.research.google.com/assets/colab-badge.svg\" alt=\"Open In Colab\"/></a>"
      ]
    },
    {
      "cell_type": "markdown",
      "source": [
        "**Example 1**"
      ],
      "metadata": {
        "id": "sssFcQ-lbfAe"
      }
    },
    {
      "cell_type": "code",
      "execution_count": 3,
      "metadata": {
        "colab": {
          "base_uri": "https://localhost:8080/",
          "height": 35
        },
        "id": "NDaaKQqTa5uL",
        "outputId": "341936ff-33a3-4791-b8aa-d5463f2dfa74"
      },
      "outputs": [
        {
          "output_type": "execute_result",
          "data": {
            "text/plain": [
              "'f'"
            ],
            "application/vnd.google.colaboratory.intrinsic+json": {
              "type": "string"
            }
          },
          "metadata": {},
          "execution_count": 3
        }
      ],
      "source": [
        "import array\n",
        "array.typecodes #get all tycodes\n",
        "a = array.array('i',[1,2,3,4,5,6]) #initializing array a\n",
        "b = array.array('f',[1.5,2.5,3.5,4.5,5.5,6.5]) #initializing array b correcting the syntax\n",
        "a.typecode #getting the typecode of a\n",
        "b.typecode #getting the typecode of b"
      ]
    },
    {
      "cell_type": "markdown",
      "source": [
        "**Example 2**"
      ],
      "metadata": {
        "id": "TZxoMMXIbj32"
      }
    },
    {
      "cell_type": "code",
      "source": [
        "import array\n",
        "array.typecodes #get all tycodes\n",
        "a = array.array('f',[1,2,3,4,5,6]) #initializing array a\n",
        "b = array.array('f',[1.5,2.5,3.5,4.5,5.5,6.5]) #initializing array b correcting the syntax\n",
        "a.typecode #getting the typecode of a\n",
        "b.typecode #getting the typecode of b"
      ],
      "metadata": {
        "colab": {
          "base_uri": "https://localhost:8080/",
          "height": 35
        },
        "id": "UK-yDLGfblrQ",
        "outputId": "38987de5-f716-4be2-bab4-8abf886a412b"
      },
      "execution_count": 4,
      "outputs": [
        {
          "output_type": "execute_result",
          "data": {
            "text/plain": [
              "'f'"
            ],
            "application/vnd.google.colaboratory.intrinsic+json": {
              "type": "string"
            }
          },
          "metadata": {},
          "execution_count": 4
        }
      ]
    },
    {
      "cell_type": "markdown",
      "source": [
        "**Array**"
      ],
      "metadata": {
        "id": "UGk_GmmecO2N"
      }
    },
    {
      "cell_type": "code",
      "source": [
        "from array import array\n",
        "a = array('i',[4,5,6,7])\n",
        "a.insert(1,2)\n",
        "array('i',[4,2,5,6,7])\n",
        "a.insert(-1,0)\n",
        "a\n",
        "a.insert(10,-1)\n",
        "a\n",
        "array('i',[4,2,5,6,0,7,-1])"
      ],
      "metadata": {
        "colab": {
          "base_uri": "https://localhost:8080/"
        },
        "id": "O-i9W-_mcUmO",
        "outputId": "a1c7d9ac-6a17-4552-a4cd-9c400d6aabc3"
      },
      "execution_count": 6,
      "outputs": [
        {
          "output_type": "execute_result",
          "data": {
            "text/plain": [
              "array('i', [4, 2, 5, 6, 0, 7, -1])"
            ]
          },
          "metadata": {},
          "execution_count": 6
        }
      ]
    },
    {
      "cell_type": "markdown",
      "source": [
        "**Example 3-4**\n"
      ],
      "metadata": {
        "id": "E66UXU_feP4V"
      }
    },
    {
      "cell_type": "code",
      "source": [
        "class Node:\n",
        "\n",
        "  #Function to initialize the node object\n",
        "  def __init__(self, data):\n",
        "    self.data = data\n",
        "    self.next = None\n",
        "         # next as null\n",
        "\n",
        "#Linked List class\n",
        "class LinkedList:\n",
        "\n",
        "  #Fuction to initialize the linked\n",
        "  #List object\n",
        "  def __init__(self):\n",
        "    self.head = None\n",
        "\n",
        "#Start with the empty list\n",
        "llist = LinkedList()\n",
        "\n",
        "llist.head = Node(1)\n",
        "second = Node(2)\n",
        "third = Node(3)\n",
        "\n",
        "llist.head.next = second\n",
        "second.next = third\n",
        "\n",
        "def printdata(self):\n",
        "  temp = self.head\n",
        "  while(temp):\n",
        "    print(temp.data)\n",
        "    temp = temp.next\n",
        "\n",
        "printdata(llist)"
      ],
      "metadata": {
        "colab": {
          "base_uri": "https://localhost:8080/"
        },
        "id": "AKYFZ0PneSim",
        "outputId": "7a9b840e-f0d1-400b-ee60-7f0d5ba558e2"
      },
      "execution_count": 13,
      "outputs": [
        {
          "output_type": "stream",
          "name": "stdout",
          "text": [
            "1\n",
            "2\n",
            "3\n"
          ]
        }
      ]
    },
    {
      "cell_type": "markdown",
      "source": [
        "**C++ CODE**\n"
      ],
      "metadata": {
        "id": "3_giwqQNfBDk"
      }
    },
    {
      "cell_type": "code",
      "source": [
        "#include <iostream>\n",
        "using namespace std;\n",
        " int main();\n",
        "\n",
        "class Node {\n",
        "    public:\n",
        "    int value;\n",
        "    Node* next;\n",
        "};\n",
        "\n",
        "int main() {\n",
        "    Node* head;\n",
        "    Node* one = NULL;\n",
        "    Node* two = NULL;\n",
        "    Node* three = NULL;\n",
        "\n",
        "    one = new Node();\n",
        "    two = new Node();\n",
        "    three = new Node();\n",
        "\n",
        "    one->value = 1;\n",
        "    two->value = 2;\n",
        "    three->value = 3;\n",
        "\n",
        "    one->next = two;\n",
        "    two->next = three;\n",
        "    three->next = NULL;\n",
        "\n",
        "    head = one;\n",
        "    while (head != NULL) {\n",
        "      cout<<head->value;\n",
        "      head = head->next;\n",
        "    }\n",
        "\n",
        "\n",
        "return 0;\n",
        "\n",
        "}"
      ],
      "metadata": {
        "id": "1XgUrybqfDNg"
      },
      "execution_count": null,
      "outputs": []
    }
  ]
}