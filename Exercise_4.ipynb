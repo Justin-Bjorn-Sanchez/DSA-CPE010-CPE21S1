{
  "nbformat": 4,
  "nbformat_minor": 0,
  "metadata": {
    "colab": {
      "provenance": [],
      "authorship_tag": "ABX9TyNYq4YYUTSIAoOv6ziVBH2z",
      "include_colab_link": true
    },
    "kernelspec": {
      "name": "python3",
      "display_name": "Python 3"
    },
    "language_info": {
      "name": "python"
    }
  },
  "cells": [
    {
      "cell_type": "markdown",
      "metadata": {
        "id": "view-in-github",
        "colab_type": "text"
      },
      "source": [
        "<a href=\"https://colab.research.google.com/github/Justin-Bjorn-Sanchez/DSA-CPE010-CPE21S1/blob/main/Exercise_4.ipynb\" target=\"_parent\"><img src=\"https://colab.research.google.com/assets/colab-badge.svg\" alt=\"Open In Colab\"/></a>"
      ]
    },
    {
      "cell_type": "markdown",
      "source": [
        "**Code that will reverse per letter of a word**\n"
      ],
      "metadata": {
        "id": "BpR84jhJz79i"
      }
    },
    {
      "cell_type": "markdown",
      "source": [],
      "metadata": {
        "id": "NKDte76C2Jzy"
      }
    },
    {
      "cell_type": "code",
      "execution_count": 7,
      "metadata": {
        "colab": {
          "base_uri": "https://localhost:8080/"
        },
        "id": "KfHTSTcTz5Mj",
        "outputId": "dba7cb1d-155f-4cb4-decd-f72d2fdbd5cd"
      },
      "outputs": [
        {
          "output_type": "stream",
          "name": "stdout",
          "text": [
            "Justin\n",
            "Katarina\n",
            "Yohance\n",
            "Joros\n",
            "Aaron\n",
            "Patrick\n",
            "Jake\n"
          ]
        }
      ],
      "source": [
        "Human = ['nitsuJ','anirataK','ecnahoY','soroJ','noraA','kcirtaP','ekaJ']\n",
        "\n",
        "for name in Human:\n",
        "    print(name[::-1])"
      ]
    }
  ]
}