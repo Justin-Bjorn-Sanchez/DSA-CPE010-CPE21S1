{
  "nbformat": 4,
  "nbformat_minor": 0,
  "metadata": {
    "colab": {
      "provenance": [],
      "authorship_tag": "ABX9TyPqdai1caPFAM0W5f7sI6Iy",
      "include_colab_link": true
    },
    "kernelspec": {
      "name": "python3",
      "display_name": "Python 3"
    },
    "language_info": {
      "name": "python"
    }
  },
  "cells": [
    {
      "cell_type": "markdown",
      "metadata": {
        "id": "view-in-github",
        "colab_type": "text"
      },
      "source": [
        "<a href=\"https://colab.research.google.com/github/Justin-Bjorn-Sanchez/DSA-CPE010-CPE21S1/blob/main/Exercise_1.ipynb\" target=\"_parent\"><img src=\"https://colab.research.google.com/assets/colab-badge.svg\" alt=\"Open In Colab\"/></a>"
      ]
    },
    {
      "cell_type": "code",
      "execution_count": 1,
      "metadata": {
        "colab": {
          "base_uri": "https://localhost:8080/"
        },
        "id": "8qWpR6T94mEu",
        "outputId": "3d13fe91-e06e-4bb4-a9f2-894647d06fcd"
      },
      "outputs": [
        {
          "output_type": "stream",
          "name": "stdout",
          "text": [
            "Enter  width of rectangle:6\n",
            "Enter length of rectangle:9\n",
            "Area of rectangle is: 54.0\n"
          ]
        }
      ],
      "source": [
        "class Rectangle:\n",
        "  def __init__(self, width, length):\n",
        "      self.width = width\n",
        "      self.length = length\n",
        "\n",
        "  def area(self):\n",
        "      return self.width * self.length\n",
        "\n",
        "width = float(input(\"Enter  width of rectangle:\"))\n",
        "length = float(input(\"Enter length of rectangle:\"))\n",
        "\n",
        "rectangle = Rectangle(width, length)\n",
        "area = rectangle.area()\n",
        "\n",
        "print(\"Area of rectangle is:\", area)"
      ]
    }
  ]
}